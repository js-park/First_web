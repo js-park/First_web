{
 "cells": [
  {
   "cell_type": "markdown",
   "metadata": {},
   "source": [
    "## Joonsung Park\n",
    "\n",
    "![](data/j_park_pic_2.jpg)\n",
    "\n",
    "Specialises for analysing financial data. Seeking a job for a data analysis position. Currently living in the Netherlands.   \n",
    "\n",
    "\n",
    "#### MSc. Economics and Business, Behavioral Economics (Behavioural Finance)   \n",
    "Former Derivatives Broker, Portfolio Manager at Daishin Securities.   \n",
    "      \n",
    "      \n",
    "Love to analysing financial data such as prices, transactions using Python and statistical tools.\n",
    "\n",
    "Experienced in Stocks, Bonds(commercial and foreign), Mutual funds and structured financial products while experiencing three years of the portfolio manager, and managed & analyzed international derivatives covering equity index, interest rates, energy, metals, FX, and agricultural market during half-year of derivatives broker.\n",
    "\n",
    "Two years of Military service made me taking care of group members as one team. Priorities of my leadership are communicating and sacrificing for achieving mutual goals. Awarded Best Performer in 2006.\n",
    "\n",
    "Currently working as a sales operation coordinator and developing data analysis skills. \n",
    "Python is my main programming language and having a competent level of SQL.\n",
    "\n",
    "* IT Skills: Python(with Specialised Certification), SQL, VMware, R, Oracle ERP\n",
    "\n",
    "#### LinkedIn: https://www.linkedin.com/in/joonsung-park-32940088/\n",
    "#### Github: https://github.com/js-park\n",
    "#### Webpage: https://js-park.github.io/j_park/\n",
    "#### E-mail:    jay.joonsungpark@gmail.com\n",
    "\n"
   ]
  },
  {
   "cell_type": "markdown",
   "metadata": {},
   "source": [
    "## Master Thesis\n",
    "https://thesis.eur.nl/pub/44918/Park-J-426410-MA-thesis.pdf   \n",
    "Analysed individual investors' trading behaviour using a huge size of transaction data in Korea.\n",
    "\n",
    "#### Abstract\n",
    "The disposition effect is unequivocally present in the individual's account level, and I investigate how\n",
    "the phenomenon can be measured at the stock level. I construct two metrics, original and normalised,\n",
    "to measure the realised tendency of gains or losses. I find that the disposition effect can be examined\n",
    "at the stock level in Korea. Using the normalised ratio, I could measure the disposition effect closer to\n",
    "the previous researches who used the account level data in Korea. The sampling data includes 89\n",
    "common shares listed in the Korean stock market from 2011 until 2017. The results show that the\n",
    "disposition effect is present at the stock level in Korea. The bigger size of the disposition effect is\n",
    "observed with the upper stock trend, smaller capsizes, and drops of the benchmark index and the daily\n",
    "return of the stock itself."
   ]
  },
  {
   "cell_type": "markdown",
   "metadata": {},
   "source": [
    "## Certificate   \n",
    "Python for Everybody Specialization Certificate   \n",
    "https://www.coursera.org/account/accomplishments/specialization/BDXPNUAXU9V7   \n",
    "\n",
    "Managing Big Data with MySQL   \n",
    "https://www.coursera.org/account/accomplishments/records/HFG5QDDT22KV   \n",
    "\n",
    "Introduction to Structured Query Language (SQL) Certificate   \n",
    "https://www.coursera.org/account/accomplishments/verify/WGUXVY8MSNZ5"
   ]
  },
  {
   "cell_type": "markdown",
   "metadata": {},
   "source": [
    "## Portfolios \n",
    "\n",
    "### 1. Python\n",
    "\n",
    "\n",
    "#### 1.1. Commodity Trading Seminar\n",
    "https://github.com/js-park/Commodity-Trading-Seminar   \n",
    "The commodity trading seminar was the brand new seminar from the Erasmus University Rotterdam during the 2017-2018 academic year. During the seminar, students learned about how the commodities, mainly agricultural products, were trading.\n",
    "\n",
    "The scope was wide, and the curriculum covered not only for studying research papers but also for analysing actual commodity prices. My group chose the coffee price, especially the Robusta coffee.\n",
    "\n",
    "My role was managing data for forecasting the prices of Robusta with other factors. Most of the forecastings were done using STATA because of the statistical advantages of STATA. I used python for preprocessing and cleaning our data set.\n",
    "\n",
    "\n",
    "#### 1.2 Analysing forex data\n",
    "https://nbviewer.jupyter.org/github/js-park/Forex/blob/master/Forex_Non-commercial_CFTC.ipynb   \n",
    "Practising the forecasting AUD forex rates using the IMM non-commercial data from CFTC. It is ongoing processes and the goal is making a reasonable proxy for forecasting the forex rates which is not from the price data.\n",
    "\n",
    "\n",
    "#### 1.3. Simple answer from complex excel files.    \n",
    "One of my role in the current position is applying for export insurances after the items are shipped out. If the agreed payment is T/T in 30 days, the invoice has the risk of bankruptcy of counterparties until the customer settles the payments. Thus, I need to apply for insurances. At the working place, the process is not organised and I need to check 3 different excel file for one invoice.\n",
    "In order to develop the working process efficiently, I create the SQL like python code while merging and sorting 3 different excel file. The contents are internal data that having sensitive issues such as prices. That is why I cannot upload the codes. But I would like to explain how I automate the time-consuming working processes."
   ]
  },
  {
   "cell_type": "markdown",
   "metadata": {},
   "source": [
    "### 2. SQL\n",
    "\n",
    "#### 2.1.  Managing Big Data with MySQL\n",
    "https://www.coursera.org/learn/analytics-mysql/home/welcome"
   ]
  }
 ],
 "metadata": {
  "kernelspec": {
   "display_name": "Python 3",
   "language": "python",
   "name": "python3"
  },
  "language_info": {
   "codemirror_mode": {
    "name": "ipython",
    "version": 3
   },
   "file_extension": ".py",
   "mimetype": "text/x-python",
   "name": "python",
   "nbconvert_exporter": "python",
   "pygments_lexer": "ipython3",
   "version": "3.7.1"
  }
 },
 "nbformat": 4,
 "nbformat_minor": 2
}
