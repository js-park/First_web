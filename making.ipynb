{
 "cells": [
  {
   "cell_type": "markdown",
   "metadata": {},
   "source": [
    "## Joonsung Park\n",
    "\n",
    "![](data/j_park_pic_2.jpg)\n",
    "\n",
    "Seeking a job for data analysis. Currently living in the Netherlands.   \n",
    "MSc. Behavioural Economics. Former Derivatives Broker, Portfolio Manager at Daishin Securities.   \n",
    "\n",
    "I like analysing financial data such as prices, transactions using Python and statistical tools.\n",
    "\n",
    "Experienced in Stocks, Bonds(commercial and foreign), Mutual funds and structured financial products while experiencing three years of the portfolio manager, and managed & analyzed international derivatives covering equity index, interest rates, energy, metals, FX, and agricultural market during half-year of derivatives broker.\n",
    "\n",
    "Two years of Military service made me taking care of group members as one team. Priorities of my leadership are communicating and sacrificing for achieving mutual goals. Awarded Best Performer in 2006.\n",
    "\n",
    "Currently working as a sales operation coordinator and developing data analysis skills. \n",
    "Python is my main programming language and enhancing SQL skills.\n",
    "\n",
    "* IT Skills: Python(with Specialised Certification), SQL, VMware, R\n",
    "\n",
    "#### LinkedIn\n",
    "https://www.linkedin.com/in/joonsung-park-32940088/\n",
    "\n",
    "#### Github: https://github.com/js-park\n",
    "#### Webpage: https://js-park.github.io/First_web/\n",
    "#### E-mail: jay.joonsungpark@gmail.com\n",
    "\n"
   ]
  },
  {
   "cell_type": "markdown",
   "metadata": {},
   "source": [
    "\n",
    "### Portfolios \n",
    "\n",
    "#### 1. Python\n",
    "\n",
    "#### 1.1 Commodity Trading Seminar\n",
    "The commodity trading seminar was the brand new seminar from the Erasmus University Rotterdam during the 2017-2018 academic year. During the seminar, students learned about how the commodities, mainly agricultural products, were trading.\n",
    "\n",
    "The scope was wide, and the curriculum covered not only for studying research papers but also for analysing actual commodity prices. My group chose the coffee price, especially the Robusta coffee.\n",
    "\n",
    "My role was managing data for forecasting the prices of Robusta with other factors.\n",
    "\n",
    "Most of the forecastings were done using STATA because of the statistical advantages of STATA. I used python for preprocessing and cleaning our data set.\n",
    "\n",
    "\n",
    "Please check the repository for commodity trading seminar\n",
    "https://github.com/js-park/Commodity-Trading-Seminar"
   ]
  },
  {
   "cell_type": "markdown",
   "metadata": {},
   "source": [
    "#### SQL\n",
    "\n",
    "#### 1. "
   ]
  },
  {
   "cell_type": "code",
   "execution_count": null,
   "metadata": {},
   "outputs": [],
   "source": []
  }
 ],
 "metadata": {
  "kernelspec": {
   "display_name": "Python 3",
   "language": "python",
   "name": "python3"
  },
  "language_info": {
   "codemirror_mode": {
    "name": "ipython",
    "version": 3
   },
   "file_extension": ".py",
   "mimetype": "text/x-python",
   "name": "python",
   "nbconvert_exporter": "python",
   "pygments_lexer": "ipython3",
   "version": "3.7.1"
  }
 },
 "nbformat": 4,
 "nbformat_minor": 2
}
